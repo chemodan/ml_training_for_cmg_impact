{
 "cells": [
  {
   "cell_type": "markdown",
   "metadata": {},
   "source": [
    "### Experiments with entropy, information gain, and decision trees."
   ]
  },
  {
   "cell_type": "markdown",
   "metadata": {},
   "source": [
    "Iris fact of the day: Iris setosa's root contains a toxin that was used by the Aleut tribe in Alaska to make poisonous arrowheads."
   ]
  },
  {
   "cell_type": "code",
   "execution_count": 1,
   "metadata": {
    "collapsed": false
   },
   "outputs": [
    {
     "name": "stdout",
     "output_type": "stream",
     "text": [
      "Couldn't import dot_parser, loading of dot files will not be possible.\n"
     ]
    }
   ],
   "source": [
    "# This tells matplotlib not to try opening a new window for each plot.\n",
    "%matplotlib inline\n",
    "\n",
    "import matplotlib.pyplot as plt\n",
    "import numpy as np\n",
    "from sklearn.datasets import load_iris\n",
    "from sklearn import tree\n",
    "from sklearn.tree import DecisionTreeClassifier\n",
    "\n",
    "# For producing decision tree diagrams.\n",
    "from IPython.core.display import Image, display\n",
    "from sklearn.externals.six import StringIO\n",
    "import pydot"
   ]
  },
  {
   "cell_type": "markdown",
   "metadata": {},
   "source": [
    "If you do not have pydot library installed, open your terminal and type either **conda install pydot** or **pip install pydot**"
   ]
  },
  {
   "cell_type": "code",
   "execution_count": 2,
   "metadata": {
    "collapsed": false
   },
   "outputs": [
    {
     "name": "stdout",
     "output_type": "stream",
     "text": [
      "Iris target names: ['setosa' 'versicolor' 'virginica']\n",
      "Iris feature names: ['sepal length (cm)', 'sepal width (cm)', 'petal length (cm)', 'petal width (cm)']\n"
     ]
    }
   ],
   "source": [
    "# Load the data, which is included in sklearn.\n",
    "iris = load_iris()\n",
    "print 'Iris target names:', iris.target_names\n",
    "print 'Iris feature names:', iris.feature_names\n",
    "X, Y = iris.data, iris.target\n",
    "\n",
    "# Shuffle the data, but make sure that the features and accompanying labels stay in sync.\n",
    "np.random.seed(0)\n",
    "shuffle = np.random.permutation(np.arange(X.shape[0]))\n",
    "X, Y = X[shuffle], Y[shuffle]\n",
    "\n",
    "# Split into train and test.\n",
    "train_data, train_labels = X[:100], Y[:100]\n",
    "test_data, test_labels = X[100:], Y[100:]"
   ]
  },
  {
   "cell_type": "code",
   "execution_count": 3,
   "metadata": {
    "collapsed": false
   },
   "outputs": [],
   "source": [
    "# Define a function that applies a threshold to turn real valued iris features into 0/1 features.\n",
    "# 0 will mean \"short\" and 1 will mean \"long\".\n",
    "def binarize_iris(data, thresholds=[6.0, 3.0, 2.5, 1.0]):\n",
    "    # Initialize a new feature array with the same shape as the original data.\n",
    "    binarized_data = np.zeros(data.shape)\n",
    "\n",
    "    # Apply a threshold  to each feature.\n",
    "    for feature in range(data.shape[1]):\n",
    "        binarized_data[:,feature] = data[:,feature] > thresholds[feature]\n",
    "    return binarized_data\n",
    "\n",
    "# Create new binarized training and test data\n",
    "binarized_train_data = binarize_iris(train_data)\n",
    "binarized_test_data = binarize_iris(test_data)"
   ]
  },
  {
   "cell_type": "markdown",
   "metadata": {},
   "source": [
    "The plan:\n",
    "    \n",
    "    The goal is to identify the data partitioning scheme that will maximize the information gain.\n",
    "    \n",
    "    The information gain will be expressed through entropy.\n",
    "    \n",
    "Let's start by defining a function that computes the entropy of a distribution. Remember that entropy is a measure of uncertainty. It is maximized when the distribution is uniform."
   ]
  },
  {
   "cell_type": "code",
   "execution_count": 4,
   "metadata": {
    "collapsed": false
   },
   "outputs": [
    {
     "name": "stdout",
     "output_type": "stream",
     "text": [
      "\n"
     ]
    },
    {
     "data": {
      "image/png": "[encoded data removed]",
      "text/plain": [
       "<matplotlib.figure.Figure at 0xcfac1b0>"
      ]
     },
     "metadata": {},
     "output_type": "display_data"
    }
   ],
   "source": [
    "def entropy(distribution):\n",
    "    h = 0.0\n",
    "    for probability in distribution:\n",
    "        logprob = -100.0  # log(0) = -inf so let's approximate it with -100 to avoid an error\n",
    "        if probability > 0.0: logprob = np.log2(probability)\n",
    "        h -= probability * logprob\n",
    "    return h\n",
    "\n",
    "# Show a plot of the entropy, H(X), of a Bernoulli random variable X.\n",
    "p_values = np.linspace(0, 1, 50)\n",
    "entropies = [entropy([p, 1-p]) for p in p_values]\n",
    "plt.figure(figsize=(4,4))\n",
    "plt.plot(p_values, entropies, 'o')\n",
    "plt.xlabel('P(X=1)')\n",
    "plt.ylabel('H(X)')\n",
    "print"
   ]
  },
  {
   "cell_type": "markdown",
   "metadata": {},
   "source": [
    "When you have time, try it with other bases for the log: 10 and \"e\"\n",
    "\n",
    "We are interested in the entropy of our distribution over labels. "
   ]
  },
  {
   "cell_type": "code",
   "execution_count": 5,
   "metadata": {
    "collapsed": false
   },
   "outputs": [
    {
     "name": "stdout",
     "output_type": "stream",
     "text": [
      "Label distribution [ 0.31  0.33  0.36]\n",
      "Label entropy: 1.58223227365\n",
      "Uniform entropy: 1.58496250072\n"
     ]
    }
   ],
   "source": [
    "def get_label_distribution(labels):\n",
    "    # Initialize counters for all labels to zero.\n",
    "    label_probs = np.array([0.0 for i in range(len(iris.target_names))])\n",
    "\n",
    "    # Iterate over labels in the training data and update counts.\n",
    "    for label in labels:\n",
    "        label_probs[label] += 1.0\n",
    "    \n",
    "    # Normalize to get a distribution.\n",
    "    label_probs /= label_probs.sum()\n",
    "    return label_probs\n",
    "\n",
    "label_probs = get_label_distribution(train_labels)\n",
    "print 'Label distribution', label_probs\n",
    "\n",
    "# Compare the label entropy to a uniform distribution.\n",
    "print 'Label entropy:', entropy(label_probs)\n",
    "print 'Uniform entropy:', entropy([1./3, 1./3, 1./3])"
   ]
  },
  {
   "cell_type": "markdown",
   "metadata": {},
   "source": [
    "Very interesting.  The distribution of labels is almost indistinguishable from uniform.  \n",
    "\n",
    "    A 64-thousand-dollar question: Can we use entropy as a similarity measure for distributions? \n",
    "\n",
    "Now let's figure out which feature provides the greatest ***information gain***. Philosophically, information gain means reduction of randomness.  So we are looking for the feature(s) that reduce entropy the most.  \n",
    "\n",
    "To do this, we need to look at the entropy of each subset of the labels after splitting on each feature.  In a sense, it is similar to marginalization by feature (like we did last week)"
   ]
  },
  {
   "cell_type": "code",
   "execution_count": 6,
   "metadata": {
    "collapsed": false
   },
   "outputs": [
    {
     "name": "stdout",
     "output_type": "stream",
     "text": [
      "0 0.406 sepal length (cm)\n",
      "1 0.216 sepal width (cm)\n",
      "2 0.893 petal length (cm)\n",
      "3 0.780 petal width (cm)\n"
     ]
    }
   ],
   "source": [
    "# A function that computes information gain given these inputs:\n",
    "#   data: an array of featurized examples\n",
    "#   labels: an array of labels corresponding to the the data\n",
    "#   feature: the feature to use to split the data\n",
    "#   threshold: the feature value to use to split the data (the default threshold is good for binary features)\n",
    "def information_gain(data, labels, feature, threshold=0):\n",
    "    # Get the initial entropy of the label distribution.\n",
    "    initial_entropy = entropy(get_label_distribution(labels))\n",
    "    \n",
    "    # subset0 will contain the labels for which the feature is 0 and\n",
    "    # subset1 will contain the labels for which the feature is 1.\n",
    "    subset0, subset1 = [], []\n",
    "    for datum, label in zip(data, labels):\n",
    "        if datum[feature] > threshold: subset1.append(label)\n",
    "        else: subset0.append(label)\n",
    "    \n",
    "    # Compute the entropy of each subset.\n",
    "    subset0_entropy = entropy(get_label_distribution(subset0))\n",
    "    subset1_entropy = entropy(get_label_distribution(subset1))\n",
    "    \n",
    "    # Make it a fair comparison: \n",
    "    # Compute the final entropy by weighting each subset's entropy according to its size.\n",
    "    subset0_weight = 1.0 * len(subset0) / len(labels)\n",
    "    subset1_weight = 1.0 * len(subset1) / len(labels)\n",
    "    final_entropy = subset0_weight * subset0_entropy + subset1_weight * subset1_entropy\n",
    "    \n",
    "    # Finally, compute information gain as the difference between the initial and final entropy.\n",
    "    return initial_entropy - final_entropy\n",
    "\n",
    "for feature in range(binarized_train_data.shape[1]):\n",
    "    ##  We are looking at binarized data; so the threshold = 0\n",
    "    ig = information_gain(binarized_train_data, train_labels, feature)\n",
    "    print '%d %.3f %s' %(feature, ig, iris.feature_names[feature])"
   ]
  },
  {
   "cell_type": "markdown",
   "metadata": {},
   "source": [
    "According to the information gain metric, ***petal length*** is the most useful feature, followed by ***petal width***. Let's confirm that this agrees with the sklearn decision tree implementation. \n",
    "\n",
    "Actually, sklearn doesn't expose the information gain values. Instead, it stores the distribution of \"feature importances\", which reflects the value of each feature in the full decision tree. Let's train a decision tree with max_depth=1 so it will only choose a single feature. Let's also get the test accuracy with this ***\"decision stump\"***.\n",
    "\n",
    "When you have time, try it with depths between 1 and 4, observe the Feature Importances.  What can you conclude?"
   ]
  },
  {
   "cell_type": "code",
   "execution_count": 7,
   "metadata": {
    "collapsed": false
   },
   "outputs": [
    {
     "name": "stdout",
     "output_type": "stream",
     "text": [
      "Using a decision stump -- a tree with depth 1:\n",
      "Feature importances: [ 0.  0.  1.  0.]\n",
      "Accuracy: 0.66\n"
     ]
    }
   ],
   "source": [
    "dt = DecisionTreeClassifier(criterion='entropy', max_depth=1)\n",
    "dt.fit(binarized_train_data, train_labels)\n",
    "print 'Using a decision stump -- a tree with depth 1:'\n",
    "print 'Feature importances:', dt.feature_importances_\n",
    "print 'Accuracy:', dt.score(binarized_test_data, test_labels)"
   ]
  },
  {
   "cell_type": "markdown",
   "metadata": {},
   "source": [
    "We've been using the binarized version of the iris features. Recall that we simply chose thresholds for each feature ***by inspecting feature histograms***. Let's use **information gain** as a metric to choose a best feature and a best threshold."
   ]
  },
  {
   "cell_type": "code",
   "execution_count": 8,
   "metadata": {
    "collapsed": false
   },
   "outputs": [
    {
     "name": "stdout",
     "output_type": "stream",
     "text": [
      "0 5.732 0.525 sepal length (cm)\n",
      "1 3.389 0.311 sepal width (cm)\n",
      "2 2.116 0.893 petal length (cm)\n",
      "3 0.605 0.893 petal width (cm)\n"
     ]
    }
   ],
   "source": [
    "def try_features_and_thresholds(data, labels):\n",
    "    for feature in range(data.shape[1]):\n",
    "        # Choose a set of thresholds between the min- and max-valued feature, ignoring the min and max themselves.\n",
    "        thresholds = np.linspace(data[:,feature].min(), data[:,feature].max(), 20)[1:-1]\n",
    "\n",
    "        # Try each threshold and keep track of the best one for this feature.\n",
    "        best_threshold = 0\n",
    "        best_ig = 0\n",
    "        for threshold in thresholds:\n",
    "            ig = information_gain(data, labels, feature, threshold)\n",
    "            if ig > best_ig:\n",
    "                best_ig = ig\n",
    "                best_threshold = threshold\n",
    "\n",
    "        # Show the best threshold and information gain for this feature.\n",
    "        print '%d %.3f %.3f %s' %(feature, best_threshold, best_ig, iris.feature_names[feature])\n",
    "        \n",
    "try_features_and_thresholds(train_data, train_labels)"
   ]
  },
  {
   "cell_type": "markdown",
   "metadata": {},
   "source": [
    "It looks like when we binarized our data, we didn't choose the thresholds that maximized information gain for 3 out of 4 features. Let's try training actual decision trees (as opposed to stumps) with the original (non-binarized) data. You may need to install **GraphViz** before exporting the tree.\n",
    "\n",
    "*** If the pydot was installed correctly, you will see the image showing the Decistion Tree after running this block of code.  Otherwise, you will see error messages, like in my case.  In any case, you can uncomment the ***\n",
    "\n",
    "    print 'dot_data value:', dot_data.getvalue()\n",
    "    \n",
    "***line, and that will reveal the structure of the tree  ***"
   ]
  },
  {
   "cell_type": "code",
   "execution_count": 9,
   "metadata": {
    "collapsed": false
   },
   "outputs": [
    {
     "name": "stdout",
     "output_type": "stream",
     "text": [
      "Accuracy: 0.96\n",
      "iris-decisiontree.jpg\n"
     ]
    },
    {
     "ename": "NameError",
     "evalue": "global name 'dot_parser' is not defined",
     "output_type": "error",
     "traceback": [
      "\u001b[1;31m---------------------------------------------------------------------------\u001b[0m",
      "\u001b[1;31mNameError\u001b[0m                                 Traceback (most recent call last)",
      "\u001b[1;32m<ipython-input-9-e9c59abd9e4c>\u001b[0m in \u001b[0;36m<module>\u001b[1;34m()\u001b[0m\n\u001b[0;32m     12\u001b[0m \u001b[1;31m## print 'dot_data value:', dot_data.getvalue()\u001b[0m\u001b[1;33m\u001b[0m\u001b[1;33m\u001b[0m\u001b[0m\n\u001b[0;32m     13\u001b[0m \u001b[1;33m\u001b[0m\u001b[0m\n\u001b[1;32m---> 14\u001b[1;33m \u001b[0mgraph\u001b[0m \u001b[1;33m=\u001b[0m \u001b[0mpydot\u001b[0m\u001b[1;33m.\u001b[0m\u001b[0mgraph_from_dot_data\u001b[0m\u001b[1;33m(\u001b[0m\u001b[0mdot_data\u001b[0m\u001b[1;33m.\u001b[0m\u001b[0mgetvalue\u001b[0m\u001b[1;33m(\u001b[0m\u001b[1;33m)\u001b[0m\u001b[1;33m)\u001b[0m\u001b[1;33m\u001b[0m\u001b[0m\n\u001b[0m\u001b[0;32m     15\u001b[0m \u001b[1;33m\u001b[0m\u001b[0m\n\u001b[0;32m     16\u001b[0m \u001b[1;33m\u001b[0m\u001b[0m\n",
      "\u001b[1;32mC:\\Anaconda\\lib\\site-packages\\pydot.pyc\u001b[0m in \u001b[0;36mgraph_from_dot_data\u001b[1;34m(data)\u001b[0m\n\u001b[0;32m    218\u001b[0m     \"\"\"\n\u001b[0;32m    219\u001b[0m \u001b[1;33m\u001b[0m\u001b[0m\n\u001b[1;32m--> 220\u001b[1;33m     \u001b[1;32mreturn\u001b[0m \u001b[0mdot_parser\u001b[0m\u001b[1;33m.\u001b[0m\u001b[0mparse_dot_data\u001b[0m\u001b[1;33m(\u001b[0m\u001b[0mdata\u001b[0m\u001b[1;33m)\u001b[0m\u001b[1;33m\u001b[0m\u001b[0m\n\u001b[0m\u001b[0;32m    221\u001b[0m \u001b[1;33m\u001b[0m\u001b[0m\n\u001b[0;32m    222\u001b[0m \u001b[1;33m\u001b[0m\u001b[0m\n",
      "\u001b[1;31mNameError\u001b[0m: global name 'dot_parser' is not defined"
     ]
    }
   ],
   "source": [
    "# Train a decision tree classifier.\n",
    "dt = DecisionTreeClassifier(criterion='entropy', min_samples_split=2)\n",
    "dt.fit(train_data, train_labels)\n",
    "print 'Accuracy:', dt.score(test_data, test_labels)\n",
    "\n",
    "# Export the trained tree so we can look at it.\n",
    "output_name = 'iris-decisiontree.jpg'\n",
    "print output_name\n",
    "\n",
    "dot_data = StringIO()\n",
    "tree.export_graphviz(dt, out_file=dot_data)\n",
    "## print 'dot_data value:', dot_data.getvalue()\n",
    "\n",
    "graph = pydot.graph_from_dot_data(dot_data.getvalue())\n",
    "\n",
    "\n",
    "# If the export was successful, show the image.   \n",
    "if graph.write_jpg(output_name):\n",
    "    print 'Output:', output_name\n",
    "    display(Image(filename=output_name))"
   ]
  },
  {
   "cell_type": "markdown",
   "metadata": {},
   "source": [
    "If you successfully output the tree, you should be able to see it here. The first split perfectly partitions the setosas because they have very narrow petals. The next split identifies a pure subset of virginicas that have wide petals. Of the remaining medium-width petal examples, those with shorter petals are versicolors, but the split is not perfect. At this point, we stop splitting because we don't have enough samples to be convinced that further splitting would generalize well.\n",
    "\n",
    "Note, though, that this depth 3 tree gets 96% accuracy on the test data. So does a depth 2 tree (try it!). Tree pruning, which is not implemented in sklearn, can be useful for choosing a depth that generalizes well."
   ]
  }
 ],
 "metadata": {
  "kernelspec": {
   "display_name": "Python 2",
   "language": "python",
   "name": "python2"
  },
  "language_info": {
   "codemirror_mode": {
    "name": "ipython",
    "version": 2
   },
   "file_extension": ".py",
   "mimetype": "text/x-python",
   "name": "python",
   "nbconvert_exporter": "python",
   "pygments_lexer": "ipython2",
   "version": "2.7.9"
  }
 },
 "nbformat": 4,
 "nbformat_minor": 0
}
