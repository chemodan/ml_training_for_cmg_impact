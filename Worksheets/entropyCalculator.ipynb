{
 "cells": [
  {
   "cell_type": "code",
   "execution_count": 4,
   "metadata": {
    "collapsed": true
   },
   "outputs": [],
   "source": [
    "import numpy as np\n",
    "def calc_entropy (P, base):\n",
    "    logP = None\n",
    "    if base == \"2\":\n",
    "        logP = np.log2(P)\n",
    "    elif base == \"10\":\n",
    "        logP = np.log10(P)\n",
    "    elif base == \"e\":\n",
    "        logP = np.log(P)\n",
    "    print P\n",
    "    print logP\n",
    "    print P*logP\n",
    "    return -sum (P*logP)"
   ]
  },
  {
   "cell_type": "code",
   "execution_count": 5,
   "metadata": {
    "collapsed": false
   },
   "outputs": [
    {
     "name": "stdout",
     "output_type": "stream",
     "text": [
      "(0.15, 0.2, 0.65)\n",
      "[-2.73696559 -2.32192809 -0.62148838]\n",
      "[-0.41054484 -0.46438562 -0.40396744]\n"
     ]
    },
    {
     "data": {
      "text/plain": [
       "1.278897902987479"
      ]
     },
     "execution_count": 5,
     "metadata": {},
     "output_type": "execute_result"
    }
   ],
   "source": [
    "P = (0.15, 0.2, 0.65)\n",
    "calc_entropy(P, base=\"2\")"
   ]
  },
  {
   "cell_type": "code",
   "execution_count": 6,
   "metadata": {
    "collapsed": false
   },
   "outputs": [
    {
     "name": "stdout",
     "output_type": "stream",
     "text": [
      "(0.15, 0.2, 0.65)\n",
      "[-0.82390874 -0.69897    -0.18708664]\n",
      "[-0.12358631 -0.139794   -0.12160632]\n"
     ]
    },
    {
     "data": {
      "text/plain": [
       "0.38498663019099544"
      ]
     },
     "execution_count": 6,
     "metadata": {},
     "output_type": "execute_result"
    }
   ],
   "source": [
    "P = (0.15, 0.2, 0.65)\n",
    "calc_entropy(P, base=\"10\")"
   ]
  },
  {
   "cell_type": "code",
   "execution_count": 7,
   "metadata": {
    "collapsed": false
   },
   "outputs": [
    {
     "name": "stdout",
     "output_type": "stream",
     "text": [
      "(0.15, 0.2, 0.65)\n",
      "[-1.89711998 -1.60943791 -0.43078292]\n",
      "[-0.284568   -0.32188758 -0.2800089 ]\n"
     ]
    },
    {
     "data": {
      "text/plain": [
       "0.88646447567979747"
      ]
     },
     "execution_count": 7,
     "metadata": {},
     "output_type": "execute_result"
    }
   ],
   "source": [
    "P = (0.15, 0.2, 0.65)\n",
    "calc_entropy(P, base=\"e\")"
   ]
  },
  {
   "cell_type": "code",
   "execution_count": null,
   "metadata": {
    "collapsed": true
   },
   "outputs": [],
   "source": []
  }
 ],
 "metadata": {
  "kernelspec": {
   "display_name": "Python 2",
   "language": "python",
   "name": "python2"
  },
  "language_info": {
   "codemirror_mode": {
    "name": "ipython",
    "version": 2
   },
   "file_extension": ".py",
   "mimetype": "text/x-python",
   "name": "python",
   "nbconvert_exporter": "python",
   "pygments_lexer": "ipython2",
   "version": "2.7.9"
  }
 },
 "nbformat": 4,
 "nbformat_minor": 0
}
