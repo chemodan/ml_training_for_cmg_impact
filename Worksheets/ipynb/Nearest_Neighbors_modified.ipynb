{
 "cells": [
  {
   "cell_type": "markdown",
   "metadata": {},
   "source": [
    "### Build and test a Nearest Neighbors classifier."
   ]
  },
  {
   "cell_type": "markdown",
   "metadata": {},
   "source": [
    "Load the relevant packages."
   ]
  },
  {
   "cell_type": "code",
   "execution_count": 1,
   "metadata": {
    "collapsed": false
   },
   "outputs": [],
   "source": [
    "# This tells matplotlib not to try opening a new window for each plot.\n",
    "%matplotlib inline\n",
    "\n",
    "import matplotlib.pyplot as plt\n",
    "import numpy as np\n",
    "from sklearn.datasets import load_iris"
   ]
  },
  {
   "cell_type": "markdown",
   "metadata": {},
   "source": [
    "Load the Iris data to use for experiments. The data include 50 observations of each of 3 types of irises (150 total). Each observation includes 4 measurements: sepal and petal width and height. The goal is to predict the iris type from these measurements.\n",
    "\n",
    "<http://en.wikipedia.org/wiki/Iris_flower_data_set>"
   ]
  },
  {
   "cell_type": "code",
   "execution_count": 3,
   "metadata": {
    "collapsed": false
   },
   "outputs": [
    {
     "name": "stdout",
     "output_type": "stream",
     "text": [
      "Iris target names: ['setosa' 'versicolor' 'virginica']\n",
      "Iris feature names: ['sepal length (cm)', 'sepal width (cm)', 'petal length (cm)', 'petal width (cm)']\n"
     ]
    }
   ],
   "source": [
    "# Load the data, which is included in sklearn.\n",
    "iris = load_iris()\n",
    "print 'Iris target names:', iris.target_names\n",
    "print 'Iris feature names:', iris.feature_names\n",
    "X, Y = iris.data, iris.target\n",
    "\n",
    "# Shuffle the data, but make sure that the features and accompanying labels stay in sync.\n",
    "np.random.seed(0)  #  To ensure repeatability of results\n",
    "shuffle = np.random.permutation(np.arange(X.shape[0]))\n",
    "X, Y = X[shuffle], Y[shuffle]\n",
    "\n",
    "# Split into train and test.\n",
    "train_data, train_labels = X[:100], Y[:100]\n",
    "test_data, test_labels = X[100:], Y[100:]"
   ]
  },
  {
   "cell_type": "markdown",
   "metadata": {},
   "source": [
    "Create a distance function that returns the distance between 2 observations."
   ]
  },
  {
   "cell_type": "code",
   "execution_count": 4,
   "metadata": {
    "collapsed": false
   },
   "outputs": [],
   "source": [
    "##  Note: the assumption is len (v1) == len (v2)\n",
    "def EuclideanDistance(v1, v2):\n",
    "    sum = 0.0\n",
    "    for index in range(len(v1)):\n",
    "        sum += (v1[index] - v2[index]) ** 2\n",
    "    return sum ** 0.5"
   ]
  },
  {
   "cell_type": "markdown",
   "metadata": {},
   "source": [
    "This is just an example of code for Euclidean distance.  In order to create a robust production-quality code, you have to be prepared for situations where len(v1) != len (v2): missing data; bad data; wrong data types, etc.  Make sure your functions are always prepared for such scenarios: as much as 50% of a data scientists' job is cleaning up the data.  A great overview of \"what can go wrong with data\" is, e.g., in this book:  http://www.amazon.com/Bad-Data-Handbook-Cleaning-Back/dp/1449321887.\n",
    "\n",
    "Just for fun, let's compute all the pairwise distances in the training data and plot a histogram."
   ]
  },
  {
   "cell_type": "code",
   "execution_count": 6,
   "metadata": {
    "collapsed": false
   },
   "outputs": [
    {
     "data": {
      "image/png": "[encoded data removed]",
      "text/plain": [
       "<matplotlib.figure.Figure at 0x1565a9b0>"
      ]
     },
     "metadata": {},
     "output_type": "display_data"
    }
   ],
   "source": [
    "dists = []\n",
    "for i in range(len(train_data) - 1):\n",
    "    for j in range(i + 1, len(train_data)):\n",
    "        dist = EuclideanDistance(train_data[i], train_data[j])\n",
    "        dists.append(dist)\n",
    "        \n",
    "fig = plt.hist(dists, 20) ## Play with different values of the parameter; see how the view changes"
   ]
  },
  {
   "cell_type": "markdown",
   "metadata": {},
   "source": [
    "Ok now let's create a class that implements a Nearest Neighbors classifier. We'll model it after the sklearn classifier implementations, with fit() and predict() methods.\n",
    "\n",
    "<http://scikit-learn.org/stable/modules/generated/sklearn.neighbors.KNeighborsClassifier.html#sklearn.neighbors.KNeighborsClassifier>"
   ]
  },
  {
   "cell_type": "code",
   "execution_count": 13,
   "metadata": {
    "collapsed": false
   },
   "outputs": [],
   "source": [
    "class NearestNeighbors:\n",
    "    # Initialize an instance of the class.\n",
    "    def __init__(self, metric=EuclideanDistance):\n",
    "        self.metric = metric\n",
    "    \n",
    "    # No training for Nearest Neighbors. Just store the data.\n",
    "    def fit(self, train_data, train_labels):\n",
    "        self.train_data = train_data\n",
    "        self.train_labels = train_labels\n",
    "    \n",
    "    # Make predictions for each test example and return results.\n",
    "    def predict(self, test_data):\n",
    "        results = []\n",
    "        for item in test_data:\n",
    "            results.append(self._predict_item(item))\n",
    "        return results\n",
    "    \n",
    "    # Private function for making a single prediction.\n",
    "    def _predict_item(self, item):\n",
    "        best_dist, best_label = 1.0e10, None\n",
    "        for i in range(len(self.train_data)):\n",
    "            dist = self.metric(self.train_data[i], item)\n",
    "           # print i, dist, best_dist, best_label, self.train_labels[i]\n",
    "            if dist < best_dist:\n",
    "                best_label = self.train_labels[i]\n",
    "                best_dist = dist\n",
    "        return best_label"
   ]
  },
  {
   "cell_type": "markdown",
   "metadata": {},
   "source": [
    "Run an experiment with the classifier."
   ]
  },
  {
   "cell_type": "code",
   "execution_count": 14,
   "metadata": {
    "collapsed": false
   },
   "outputs": [
    {
     "name": "stdout",
     "output_type": "stream",
     "text": [
      "total:  50  correct:  48  accuracy: 96.00\n",
      "0\n"
     ]
    }
   ],
   "source": [
    "clf = NearestNeighbors(metric = EuclideanDistance)\n",
    "clf.fit(train_data, train_labels)\n",
    "preds = clf.predict(test_data)\n",
    "\n",
    "correct, total = 0, 0\n",
    "for pred, label in zip(preds, test_labels):\n",
    "    if pred == label: correct += 1\n",
    "    total += 1\n",
    "    \n",
    "accuracy = 1.0*correct/total\n",
    "accuracy_pct = 100.0*correct/total\n",
    "\n",
    "print 'total: %3d  correct: %3d  accuracy: %3.2f' %(total, correct, accuracy_pct)\n",
    "print pred"
   ]
  },
  {
   "cell_type": "markdown",
   "metadata": {},
   "source": [
    "Let's try and see what happens if we do not set the seed for the random number generator.  When no seed is given, RNG usually sets the seed to the numeric interpretation of UTC (Coordinated Universal Time).  Let us do just that (change the second argument in range() function before you run this loop):"
   ]
  },
  {
   "cell_type": "code",
   "execution_count": 16,
   "metadata": {
    "collapsed": false
   },
   "outputs": [
    {
     "name": "stdout",
     "output_type": "stream",
     "text": [
      "143226146398\n",
      "seed: 1432261463 total:  50  correct:  49  accuracy: 0.98\n",
      "seed: 1432261464 total:  50  correct:  49  accuracy: 0.98\n",
      "seed: 1432261465 total:  50  correct:  49  accuracy: 0.98\n",
      "seed: 1432261466 total:  50  correct:  48  accuracy: 0.96\n",
      "seed: 1432261467 total:  50  correct:  48  accuracy: 0.96\n",
      "seed: 1432261468 total:  50  correct:  46  accuracy: 0.92\n",
      "seed: 1432261469 total:  50  correct:  47  accuracy: 0.94\n",
      "seed: 1432261470 total:  50  correct:  47  accuracy: 0.94\n",
      "seed: 1432261471 total:  50  correct:  48  accuracy: 0.96\n",
      "seed: 1432261472 total:  50  correct:  49  accuracy: 0.98\n",
      "seed: 1432261473 total:  50  correct:  47  accuracy: 0.94\n",
      "seed: 1432261474 total:  50  correct:  48  accuracy: 0.96\n",
      "seed: 1432261475 total:  50  correct:  49  accuracy: 0.98\n",
      "seed: 1432261476 total:  50  correct:  47  accuracy: 0.94\n",
      "seed: 1432261477 total:  50  correct:  48  accuracy: 0.96\n",
      "seed: 1432261478 total:  50  correct:  47  accuracy: 0.94\n",
      "seed: 1432261479 total:  50  correct:  47  accuracy: 0.94\n",
      "seed: 1432261480 total:  50  correct:  48  accuracy: 0.96\n",
      "seed: 1432261481 total:  50  correct:  47  accuracy: 0.94\n",
      "seed: 1432261482 total:  50  correct:  48  accuracy: 0.96\n",
      "seed: 1432261483 total:  50  correct:  49  accuracy: 0.98\n",
      "seed: 1432261484 total:  50  correct:  48  accuracy: 0.96\n",
      "seed: 1432261485 total:  50  correct:  47  accuracy: 0.94\n",
      "seed: 1432261486 total:  50  correct:  48  accuracy: 0.96\n",
      "seed: 1432261487 total:  50  correct:  47  accuracy: 0.94\n",
      "seed: 1432261488 total:  50  correct:  46  accuracy: 0.92\n",
      "seed: 1432261489 total:  50  correct:  48  accuracy: 0.96\n",
      "seed: 1432261490 total:  50  correct:  49  accuracy: 0.98\n",
      "seed: 1432261491 total:  50  correct:  48  accuracy: 0.96\n",
      "seed: 1432261492 total:  50  correct:  46  accuracy: 0.92\n",
      "seed: 1432261493 total:  50  correct:  48  accuracy: 0.96\n",
      "seed: 1432261494 total:  50  correct:  46  accuracy: 0.92\n",
      "seed: 1432261495 total:  50  correct:  47  accuracy: 0.94\n",
      "seed: 1432261496 total:  50  correct:  46  accuracy: 0.92\n",
      "seed: 1432261497 total:  50  correct:  49  accuracy: 0.98\n",
      "seed: 1432261498 total:  50  correct:  48  accuracy: 0.96\n",
      "seed: 1432261499 total:  50  correct:  47  accuracy: 0.94\n",
      "seed: 1432261500 total:  50  correct:  47  accuracy: 0.94\n",
      "seed: 1432261501 total:  50  correct:  49  accuracy: 0.98\n",
      "seed: 1432261502 total:  50  correct:  46  accuracy: 0.92\n",
      "seed: 1432261503 total:  50  correct:  47  accuracy: 0.94\n",
      "seed: 1432261504 total:  50  correct:  46  accuracy: 0.92\n",
      "seed: 1432261505 total:  50  correct:  50  accuracy: 1.00\n",
      "seed: 1432261506 total:  50  correct:  48  accuracy: 0.96\n",
      "seed: 1432261507 total:  50  correct:  47  accuracy: 0.94\n",
      "seed: 1432261508 total:  50  correct:  47  accuracy: 0.94\n",
      "seed: 1432261509 total:  50  correct:  47  accuracy: 0.94\n",
      "seed: 1432261510 total:  50  correct:  48  accuracy: 0.96\n",
      "seed: 1432261511 total:  50  correct:  48  accuracy: 0.96\n",
      "seed: 1432261512 total:  50  correct:  47  accuracy: 0.94\n"
     ]
    }
   ],
   "source": [
    "X, Y = iris.data, iris.target\n",
    "import time\n",
    "Now = time.time()\n",
    "print long (Now.real * 100)\n",
    "\n",
    "# Now run the same codeShuffle the data, but make sure that the features and accompanying labels stay in sync.\n",
    "for i in range (0, 50):\n",
    "    myseed = long(Now.real)+i\n",
    "    np.random.seed(myseed)  #  To ensure repeatability of results\n",
    "\n",
    "    shuffle = np.random.permutation(np.arange(X.shape[0]))\n",
    "    X, Y = X[shuffle], Y[shuffle]\n",
    "\n",
    "    # Split into train and test.\n",
    "    train_data, train_labels = X[:100], Y[:100]\n",
    "    test_data, test_labels = X[100:], Y[100:]\n",
    "\n",
    "    clf.fit(train_data, train_labels)\n",
    "    preds = clf.predict(test_data)\n",
    "\n",
    "    correct, total = 0, 0\n",
    "    for pred, label in zip(preds, test_labels):\n",
    "        if pred == label: correct += 1\n",
    "        total += 1\n",
    "    print 'seed: %ld total: %3d  correct: %3d  accuracy: %3.2f' %(myseed, total, correct, 1.0*correct/total)\n",
    "\n"
   ]
  },
  {
   "cell_type": "markdown",
   "metadata": {},
   "source": [
    "The accuracy varies with the random seed.  It is normal and expected.  It is important to be aware of this phenomenon: shuffling does matter, and it does affect the classification accuracy.  \n",
    "\n",
    "When you report findings with any ML methodology, or compare your results with someone else's, it is very important to keep it in mind and account for it.\n",
    "\n",
    "As an optional homework, plot the histogram of accuracy after 100 iterations of the Nearest_Neighbors algorithm in this worksheet."
   ]
  }
 ],
 "metadata": {
  "kernelspec": {
   "display_name": "Python 2",
   "language": "python",
   "name": "python2"
  },
  "language_info": {
   "codemirror_mode": {
    "name": "ipython",
    "version": 2
   },
   "file_extension": ".py",
   "mimetype": "text/x-python",
   "name": "python",
   "nbconvert_exporter": "python",
   "pygments_lexer": "ipython2",
   "version": "2.7.9"
  }
 },
 "nbformat": 4,
 "nbformat_minor": 0
}
