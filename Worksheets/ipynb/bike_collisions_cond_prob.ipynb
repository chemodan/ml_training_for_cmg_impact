{
 "cells": [
  {
   "cell_type": "markdown",
   "metadata": {},
   "source": [
    "bicycle safety in London (taken from an article in ASA's Significance Magazine):  The City of London adopted a measure to improve safety of bicyclists.  Before it was implemented, there were 6e-6 collisions per week per bicyclist, of which 5% were deadly.  After implementation, the fatality of a collision dropped to 3%, but their frequency increased to 9e-6 collisions per week per bicyclist, of which 3% were deadly: riders started to believe in their immortality, because the measure was well advertised, and started doing silly things on the roads.  Did the measure make a difference?"
   ]
  },
  {
   "cell_type": "code",
   "execution_count": 7,
   "metadata": {
    "collapsed": true
   },
   "outputs": [],
   "source": [
    "before = 6e-6\n",
    "after  = 9e-6\n",
    "fatalities_per_collision_before = 0.05\n",
    "fatalities_per_collision_after = 0.03"
   ]
  },
  {
   "cell_type": "markdown",
   "metadata": {},
   "source": [
    "Compute overall fatalities:"
   ]
  },
  {
   "cell_type": "code",
   "execution_count": 8,
   "metadata": {
    "collapsed": false
   },
   "outputs": [
    {
     "name": "stdout",
     "output_type": "stream",
     "text": [
      "fatalities before the measure: 3e-07 ; fatalities after the measure: 2.7e-07\n",
      "riding a bike in London became safer by a factor of 1.11\n"
     ]
    }
   ],
   "source": [
    "fatalities_before = before * fatalities_per_collision_before\n",
    "fatalities_after = after * fatalities_per_collision_after\n",
    "relative_change = fatalities_after / fatalities_before\n",
    "\n",
    "print \"fatalities before the measure:\", fatalities_before, \"; fatalities after the measure:\", fatalities_after\n",
    "if (relative_change < 1):\n",
    "    print \"riding a bike in London became safer by a factor of %3.2f\" %(1.0/relative_change)\n",
    "else:\n",
    "    print \"riding a bike in London became more dangerous by a factor of %3.2f\" %relative_change"
   ]
  }
 ],
 "metadata": {
  "kernelspec": {
   "display_name": "Python 2",
   "language": "python",
   "name": "python2"
  },
  "language_info": {
   "codemirror_mode": {
    "name": "ipython",
    "version": 2
   },
   "file_extension": ".py",
   "mimetype": "text/x-python",
   "name": "python",
   "nbconvert_exporter": "python",
   "pygments_lexer": "ipython2",
   "version": "2.7.9"
  }
 },
 "nbformat": 4,
 "nbformat_minor": 0
}
