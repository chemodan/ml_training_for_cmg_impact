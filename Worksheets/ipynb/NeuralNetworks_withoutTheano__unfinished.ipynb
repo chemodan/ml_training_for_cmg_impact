{
 "cells": [
  {
   "cell_type": "markdown",
   "metadata": {},
   "source": [
    "# Neural Networks explained without theano package"
   ]
  },
  {
   "cell_type": "markdown",
   "metadata": {},
   "source": [
    "Adapted from: http://neuralnetworksanddeeplearning.com/chap1.html"
   ]
  },
  {
   "cell_type": "markdown",
   "metadata": {},
   "source": [
    "**Perceptron: ** \n",
    "    $ y = 0$   if $\\sum_j (w_j * x_j) <= threshold$,\n",
    "    $ y = 1$   if $\\sum_j (w_j * x_j) > threshold$,\n",
    "    \n",
    "    where $x_j$ is the *input (0 or 1)*; $w_j$ is the *weight* assigned to input $x_j$; $threshold$ is the decision-making cutoff point.\n",
    "    \n",
    "To simplify, \n",
    "\n",
    "Rename $b = bias = threshold$. Rewrite earlier definition of $y$:\n",
    "\n",
    "\n",
    "$y = 0$ if $∑j(wj∗xj)+b <= 0$\n",
    "\n",
    "$y = 1$ if $∑j(wj∗xj)+b > 0$\n",
    "    \n",
    "    \n",
    "***Advantages:***\n",
    "    \n",
    "    We can simulate any binary-logic device: $AND$, $OR$, or $NAND$, and using these three, any other device can be simulated.  In the 50s and 60s, the thinking was that our brains followed boolean logic.\n",
    "\n",
    "***Disadvantages:***\n",
    "\n",
    "    Our brains are much more complicated, and $x_j = 0 or 1$ does not describe biological neurons."
   ]
  },
  {
   "cell_type": "markdown",
   "metadata": {},
   "source": [
    "**Solution: sigmoid neuron**:\n",
    "   \n",
    "Allow $(x, y)$ to cover all real numbers between $0$ and $1$\n",
    "    "
   ]
  },
  {
   "cell_type": "markdown",
   "metadata": {},
   "source": [
    "$\\sigma (z) = \\frac{1}{1 + \\exp(z)}$"
   ]
  },
  {
   "cell_type": "markdown",
   "metadata": {},
   "source": [
    "$z = -[\\sum_j (w_j * x_j)+b]$"
   ]
  },
  {
   "cell_type": "markdown",
   "metadata": {},
   "source": [
    "The $-$ is to keep the sigmoid neuron's behavior similar to the perceptron's"
   ]
  }
 ],
 "metadata": {
  "kernelspec": {
   "display_name": "Python 2",
   "language": "python",
   "name": "python2"
  },
  "language_info": {
   "codemirror_mode": {
    "name": "ipython",
    "version": 2
   },
   "file_extension": ".py",
   "mimetype": "text/x-python",
   "name": "python",
   "nbconvert_exporter": "python",
   "pygments_lexer": "ipython2",
   "version": "2.7.9"
  }
 },
 "nbformat": 4,
 "nbformat_minor": 0
}
