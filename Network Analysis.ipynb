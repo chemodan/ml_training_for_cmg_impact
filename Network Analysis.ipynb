{
 "cells": [
  {
   "cell_type": "markdown",
   "metadata": {},
   "source": [
    "# Network Graph Theory:\n",
    "\n",
    "##The 7 Bridges of Koenigsberg: http://webserv.jcu.edu/math//vignettes/bridges.htm\n",
    "\n",
    "More fun here:  http://www.archimedes-lab.org/How_to_Solve/9_dots.html"
   ]
  },
  {
   "cell_type": "markdown",
   "metadata": {},
   "source": [
    "Degree Distribution\n",
    "\n",
    "http://mathinsight.org/degree_distribution\n",
    "\n",
    "http://www.network-science.org/powerlaw_scalefree_node_degree_distribution.html\n",
    "\n",
    "http://www.network-science.org/highly-connected-society-dense-social-complex-networks.html\n"
   ]
  },
  {
   "cell_type": "markdown",
   "metadata": {},
   "source": [
    "A more rigorous insight into eigenvector centrality:\n",
    "https://www.math.washington.edu/~morrow/336_11/papers/leo.pdf\n"
   ]
  },
  {
   "cell_type": "markdown",
   "metadata": {},
   "source": [
    "##The networkx library\n",
    "\n",
    "We are going to explore the networkx library.  Installation instructions and all other info are here: http://igraph.org/python/\n",
    "\n",
    "To install on Windows, I used the following command: pip install networkx\n",
    "\n",
    "Documentation, including tutorial, is here: https://networkx.github.io/."
   ]
  },
  {
   "cell_type": "code",
   "execution_count": 56,
   "metadata": {},
   "outputs": [],
   "source": [
    "%matplotlib inline\n",
    "import datetime\n",
    "from matplotlib import pyplot as plt\n",
    "import networkx as nx"
   ]
  },
  {
   "cell_type": "code",
   "execution_count": 57,
   "metadata": {},
   "outputs": [
    {
     "name": "stdout",
     "output_type": "stream",
     "text": [
      "2.1\n"
     ]
    }
   ],
   "source": [
    "print (nx.__version__)"
   ]
  },
  {
   "cell_type": "markdown",
   "metadata": {},
   "source": [
    "Let's create a graph give it a \"date\" attribute, and assign today's date to it:"
   ]
  },
  {
   "cell_type": "code",
   "execution_count": 58,
   "metadata": {},
   "outputs": [
    {
     "name": "stdout",
     "output_type": "stream",
     "text": [
      "My_Graph_2018-12-29\n",
      "My Graph is called My_Graph_2018-12-29\n"
     ]
    }
   ],
   "source": [
    "g = nx.Graph()\n",
    "# g[\"date\"] = datetime.date.today()\n",
    "g.name = 'My_Graph_' + str(datetime.date.today())\n",
    "print (g)\n",
    "print (\"My Graph is called %s\" % (g.name))"
   ]
  },
  {
   "cell_type": "code",
   "execution_count": 70,
   "metadata": {},
   "outputs": [
    {
     "name": "stdout",
     "output_type": "stream",
     "text": [
      "[(0, {'name': 'Alice', 'age': 25, 'gender': 'f'}), (1, {'name': 'Bob', 'age': 31, 'gender': 'm'}), (2, {'name': 'Claire', 'age': 18, 'gender': 'f'}), (3, {'name': 'Dennis', 'age': 47, 'gender': 'm'}), (4, {'name': 'Esther', 'age': 22, 'gender': 'f'}), (5, {'name': 'Frank', 'age': 23, 'gender': 'm'}), (6, {'name': 'George', 'age': 50, 'gender': 'm'})]\n"
     ]
    },
    {
     "data": {
      "text/plain": [
       "['f', 'm', 'f', 'm', 'f', 'm', 'm']"
      ]
     },
     "execution_count": 70,
     "metadata": {},
     "output_type": "execute_result"
    }
   ],
   "source": [
    "\"\"\"Let's add nodes to our graph:\"\"\"\n",
    "\n",
    "names = [\"Alice\", \"Bob\", \"Claire\", \"Dennis\", \"Esther\", \"Frank\", \"George\"]\n",
    "ages = [25, 31, 18, 47, 22, 23, 50]\n",
    "genders = [\"f\", \"m\", \"f\", \"m\", \"f\", \"m\", \"m\"]\n",
    "\n",
    "for ii in range(len(names)):\n",
    "    g.add_node(ii)\n",
    "    g.node[ii]['name'] = names[ii]\n",
    "    g.node[ii]['age'] = ages[ii]\n",
    "    g.node[ii]['gender'] = genders[ii]\n",
    "    \n",
    "print(list(g.nodes.data()))\n",
    "\n",
    "[nn['name'] for nn in list(g.nodes.values())]"
   ]
  },
  {
   "cell_type": "code",
   "execution_count": 60,
   "metadata": {},
   "outputs": [
    {
     "name": "stdout",
     "output_type": "stream",
     "text": [
      "{(0, 1): {'is_formal': False}, (0, 2): {'is_formal': False}, (2, 3): {'is_formal': True}, (3, 4): {'is_formal': True}, (4, 2): {'is_formal': True}, (2, 5): {'is_formal': False}, (5, 0): {'is_formal': True}, (6, 3): {'is_formal': False}, (5, 6): {'is_formal': False}}\n",
      "Added 9 edges\n"
     ]
    },
    {
     "data": {
      "text/plain": [
       "EdgeDataView([(0, 1, {'is_formal': False}), (0, 2, {'is_formal': False}), (0, 5, {'is_formal': True}), (2, 3, {'is_formal': True}), (2, 4, {'is_formal': True}), (2, 5, {'is_formal': False}), (3, 4, {'is_formal': True}), (3, 6, {'is_formal': False}), (5, 6, {'is_formal': False})])"
      ]
     },
     "execution_count": 60,
     "metadata": {},
     "output_type": "execute_result"
    }
   ],
   "source": [
    "\"\"\"Now let's add edges:\"\"\"\n",
    "edges = [(0,1), (0,2), (2,3), (3,4), (4,2), (2,5), (5,0), (6,3), (5,6)]\n",
    "g.add_edges_from(edges)\n",
    "\n",
    "\"\"\"Add formality of relationships:\"\"\"\n",
    "formality = [False, False, True, True, True, False, True, False, False]\n",
    "\n",
    "\"\"\"Form a hashtable (dictionary) of attributes\"\"\"\n",
    "attrs = {}\n",
    "for ii in range(len(edges)):\n",
    "    attrs[edges[ii]] = {'is_formal': formality[ii]}\n",
    "print (attrs)\n",
    "    \n",
    "\"\"\"Assign the attributes to the edges\"\"\"\n",
    "nx.set_edge_attributes(g, attrs)\n",
    "print ('Added %d edges' % (len(g.edges)))\n",
    "\n",
    "g.edges.data()"
   ]
  },
  {
   "cell_type": "markdown",
   "metadata": {},
   "source": [
    "Now we have built a graph with 7 vertices and 9 edges connecting node 0 with nodes 1 and 2; node 2 with nodes 3 and 5; etc..\n",
    "Let's plot it (for more details on plotting igraph, follow this [link](https://networkx.github.io/documentation/latest/reference/generated/networkx.drawing.nx_pylab.draw.html#networkx.drawing.nx_pylab.draw).)"
   ]
  },
  {
   "cell_type": "code",
   "execution_count": 61,
   "metadata": {},
   "outputs": [
    {
     "data": {
      "image/png": "[encoded data removed]",
      "text/plain": [
       "<Figure size 432x288 with 1 Axes>"
      ]
     },
     "metadata": {},
     "output_type": "display_data"
    }
   ],
   "source": [
    "nx.draw(g)"
   ]
  },
  {
   "cell_type": "markdown",
   "metadata": {},
   "source": [
    "This is not very informative.  Let's show some of the vertex and edge attributes:"
   ]
  },
  {
   "cell_type": "code",
   "execution_count": 151,
   "metadata": {},
   "outputs": [],
   "source": [
    "layout = nx.spring_layout(g)\n",
    "\n",
    "\"\"\"Prepare the colors and the labels:\"\"\"\n",
    "vx_color_dict = {\"m\": \"gray\", \"f\": \"orange\"}\n",
    "ed_color_dict = {True: \"blue\", False: \"red\"}\n",
    "vx_label_dict = {}\n",
    "for ii in range (len(g.nodes)):\n",
    "    vx_label_dict[ii] = [str(ii) + \": \" + nn['name'] for nn in list(g.nodes.values())][ii]\n",
    "\n",
    "    \n",
    "\"\"\"Prepare the patches for legend:\"\"\"\n",
    "import matplotlib.patches as mpatches\n",
    "import matplotlib.pyplot as plt\n",
    "\n",
    "\n",
    "my_legend = []\n",
    "for vxc_key in vx_color_dict.keys():\n",
    "    #     print (vx_color_dict[vxc_key])\n",
    "    #     print (vxc_key)\n",
    "    my_legend.append(mpatches.Patch(color = vx_color_dict[vxc_key], label = 'gender=' + vxc_key))\n",
    "\n",
    "for edc_key in ed_color_dict.keys():\n",
    "    #     print (ed_color_dict[edc_key])\n",
    "    #     print (edc_key)\n",
    "    my_legend.append(mpatches.Patch(color = ed_color_dict[edc_key], label = 'is_formal=' + str(edc_key)))\n"
   ]
  },
  {
   "cell_type": "code",
   "execution_count": 153,
   "metadata": {},
   "outputs": [
    {
     "data": {
      "image/png": "[encoded data removed]",
      "text/plain": [
       "<Figure size 1080x612 with 1 Axes>"
      ]
     },
     "metadata": {},
     "output_type": "display_data"
    }
   ],
   "source": [
    "\"\"\"Draw the network\"\"\"\n",
    "\n",
    "_, ax = plt.subplots(figsize=(15,8.5))\n",
    "\n",
    "nx.draw_networkx_nodes(g, pos=layout, ax=ax, node_size=1000,\n",
    "                       node_color=[vx_color_dict[gender] for gender in [nn['gender'] for nn in list(g.nodes.values())]]\n",
    "                      )\n",
    "nx.draw_networkx_edges(g, pos=layout, width=2.0, ax=ax,\n",
    "                       edge_color=[ed_color_dict[is_formal] for is_formal in [nn['is_formal'] for nn in list(g.edges.values())]]\n",
    "                      )\n",
    "nx.draw_networkx_labels(g, pos = layout, labels=vx_label_dict, font_size=18, font_color='k')\n",
    "plt.legend(handles=my_legend)\n",
    "\n",
    "plt.axis('off')\n",
    "plt.show()"
   ]
  },
  {
   "cell_type": "code",
   "execution_count": 150,
   "metadata": {
    "scrolled": true
   },
   "outputs": [
    {
     "name": "stdout",
     "output_type": "stream",
     "text": [
      "[(0, 3), (1, 1), (2, 4), (3, 3), (4, 2), (5, 3), (6, 2)]\n"
     ]
    }
   ],
   "source": [
    "\"\"\"Degrees:\"\"\"\n",
    "\n",
    "print (g.degree())"
   ]
  },
  {
   "cell_type": "markdown",
   "metadata": {},
   "source": [
    "    Node 0 is Alice; she has 3 degrees, 1 formal and 2 informal\n",
    "    Node 1 is Bob; he has 1 degree, and it is informal\n",
    "    Node 2 is Claire; she has 4 degrees, of which two are formal and two are informal\n",
    "    Node 3 is Dennis; he has 3 degrees, 2 formal and 1 informal\n",
    "    Node 4 is Esther; she has 2 formal degrees\n",
    "    Node 5 is George; he has 2 informal degrees"
   ]
  },
  {
   "cell_type": "markdown",
   "metadata": {},
   "source": [
    "From here, we can easily build the degree distribution.\n",
    "\n",
    "We can also find the node with the maximum degree:"
   ]
  },
  {
   "cell_type": "code",
   "execution_count": 158,
   "metadata": {},
   "outputs": [
    {
     "data": {
      "image/png": "[encoded data removed]",
      "text/plain": [
       "<Figure size 792x612 with 1 Axes>"
      ]
     },
     "metadata": {},
     "output_type": "display_data"
    }
   ],
   "source": [
    "import collections\n",
    "degree_sequence = sorted([d for n, d in g.degree()], reverse=True)  # degree sequence\n",
    "# print \"Degree sequence\", degree_sequence\n",
    "degreeCount = collections.Counter(degree_sequence)\n",
    "deg, cnt = zip(*degreeCount.items())\n",
    "\n",
    "fig, ax = plt.subplots(figsize=(11, 8.5))\n",
    "plt.bar(deg, cnt, width=0.80, color='b')\n",
    "plt.show()"
   ]
  },
  {
   "cell_type": "markdown",
   "metadata": {},
   "source": [
    "##### A word on node centrality\n",
    "\n",
    "[Wikipedia page](https://en.wikipedia.org/wiki/Centrality#PageRank_centrality)\n",
    "\n",
    "A great lecture on centrality measures is here: https://www.stat.washington.edu/people/pdhoff/courses/567/Notes/l6_centrality.pdf\n",
    "\n",
    "There are several metrics of centrality:\n",
    "\n",
    "* [Closeness](https://en.wikipedia.org/wiki/Closeness_centrality):\n",
    "\n",
    "$$C_c(j) = \\frac{1}{\\sum_{i \\ne j}{d_{i,j}}}: $$\n",
    "\n",
    "Closeness centrality of node **$j$** is the inverse of the sum of the distances between all nodes that are connected to it.\n",
    "\n",
    "* [Betweenness](https://en.wikipedia.org/wiki/Betweenness_centrality)\n",
    "\n",
    "$$C_b(v) = \\sum_{s \\ne v \\ne t}{\\frac{\\sigma_{st}(v)}{\\sigma_{st}}}: $$\n",
    "\n",
    "Betweenness centrality of node **$v$** is the sum of lengths of shortest paths going between nodes **$t$** and **$s$** going through node **$v$** weighted by the total sum of lengths of shortest paths between nodes **$t$** and **$s$** .\n",
    "\n",
    "* [Eigenvector](https://en.wikipedia.org/wiki/Eigenvector_centrality)\n",
    "\n",
    "$$C_e = \\frac{1}{\\lambda}\\sum_{t \\in M(v)}{x_t}: $$\n",
    "\n",
    "If we represent the graph as an adjacency matrix $A$, such that $a_{v,t} = 1$ if a connection exists and  $a_{v,t} = 0$ if it does not, then we define *eigenvector* **$x$** as the solution to the equation:\n",
    "\n",
    "$$ A*x = \\lambda*x, $$\n",
    "\n",
    "where **$\\lambda$** is a constant.  For Eigenvector centrality, we impose a restriction that $\\lambda > 0$.  This ensures that only the **$max_{\\Lambda}{\\lambda}$** is qualified ($\\Lambda$ is the universe of possible values of $\\lambda$).\n",
    "\n",
    "\n",
    "* [PageRank](https://en.wikipedia.org/wiki/Centrality#PageRank_centrality)\n",
    "\n",
    "\"It's too complicated for such a short session :-)\"\n"
   ]
  },
  {
   "cell_type": "code",
   "execution_count": 165,
   "metadata": {},
   "outputs": [
    {
     "data": {
      "text/plain": [
       "{0: 0.6666666666666666,\n",
       " 1: 0.42857142857142855,\n",
       " 2: 0.75,\n",
       " 3: 0.6,\n",
       " 4: 0.5454545454545454,\n",
       " 5: 0.6666666666666666,\n",
       " 6: 0.5454545454545454}"
      ]
     },
     "execution_count": 165,
     "metadata": {},
     "output_type": "execute_result"
    }
   ],
   "source": [
    "\"\"\"Closeness Centrality:\"\"\"\n",
    "nx.closeness_centrality(g)"
   ]
  },
  {
   "cell_type": "code",
   "execution_count": 166,
   "metadata": {},
   "outputs": [
    {
     "data": {
      "text/plain": [
       "{0: 0.3333333333333333,\n",
       " 1: 0.0,\n",
       " 2: 0.36666666666666664,\n",
       " 3: 0.1,\n",
       " 4: 0.0,\n",
       " 5: 0.16666666666666666,\n",
       " 6: 0.03333333333333333}"
      ]
     },
     "execution_count": 166,
     "metadata": {},
     "output_type": "execute_result"
    }
   ],
   "source": [
    "\"\"\"Betweenness Centrality\"\"\"\n",
    "nx.betweenness_centrality(g)"
   ]
  },
  {
   "cell_type": "code",
   "execution_count": 167,
   "metadata": {},
   "outputs": [
    {
     "data": {
      "text/plain": [
       "{0: 0.38493446411268684,\n",
       " 1: 0.13455528196393512,\n",
       " 2: 0.5412443925492261,\n",
       " 3: 0.40668911058812607,\n",
       " 4: 0.3313512386493619,\n",
       " 5: 0.42542049236157436,\n",
       " 6: 0.2908652104004743}"
      ]
     },
     "execution_count": 167,
     "metadata": {},
     "output_type": "execute_result"
    }
   ],
   "source": [
    "\"\"\"Eigenvector Centrality:\"\"\"\n",
    "nx.eigenvector_centrality(g)"
   ]
  },
  {
   "cell_type": "code",
   "execution_count": 169,
   "metadata": {
    "scrolled": true
   },
   "outputs": [
    {
     "data": {
      "text/plain": [
       "{0: 0.1715180501112619,\n",
       " 1: 0.07002584522526745,\n",
       " 2: 0.20933540480008286,\n",
       " 3: 0.16151717279738345,\n",
       " 4: 0.11167528257541989,\n",
       " 5: 0.16265228004063853,\n",
       " 6: 0.1132759644499459}"
      ]
     },
     "execution_count": 169,
     "metadata": {},
     "output_type": "execute_result"
    }
   ],
   "source": [
    "\"\"\"PageRank:\"\"\"\n",
    "nx.pagerank(g)"
   ]
  },
  {
   "cell_type": "markdown",
   "metadata": {},
   "source": [
    "#### In Conclusion about Network Analysis\n",
    "Network analysis, social and otherwise, is an extremely interesting field.  \n",
    "\n",
    "The math may not not be too difficult: it's all matrix algebra, but the complexity can very rapidly grow: network nodes and edges can be weighted by multiple features; intra-network dynamics change all the time, leading to interesting patterns, clique formation, distribution changes, etc.  \n",
    "\n",
    "\n",
    "***From the CMGers' perspective***, we are talking about network optimization to ensure there is sufficient capacity.  As an act of shameless self-advertisement, here's a link to a CMG'14 paper: https://bit.ly/2BO2BGc"
   ]
  }
 ],
 "metadata": {
  "kernelspec": {
   "display_name": "Python 3",
   "language": "python",
   "name": "python3"
  },
  "language_info": {
   "codemirror_mode": {
    "name": "ipython",
    "version": 3
   },
   "file_extension": ".py",
   "mimetype": "text/x-python",
   "name": "python",
   "nbconvert_exporter": "python",
   "pygments_lexer": "ipython3",
   "version": "3.6.4"
  }
 },
 "nbformat": 4,
 "nbformat_minor": 1
}
